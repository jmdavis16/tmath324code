{
 "cells": [
  {
   "cell_type": "markdown",
   "metadata": {},
   "source": [
    "This is a typical code window, hit Run to run the code. You will normally have to run all the windows for later code to run, especially if a library is used later."
   ]
  },
  {
   "cell_type": "code",
   "execution_count": null,
   "metadata": {},
   "outputs": [],
   "source": [
    "## import packages, and conventional abbrev.\n",
    "import numpy as np\n",
    "import scipy as sp\n",
    "import matplotlib \n",
    "import matplotlib.pyplot as plt\n",
    "\n",
    "## check versions of above packages\n",
    "print(np.version.version, sp.__version__, matplotlib.__version__)"
   ]
  },
  {
   "cell_type": "markdown",
   "metadata": {},
   "source": [
    "You can do basic arithmetics with Python. Be careful with syntax, Python is case sensitive, and try to name variables with reasonable names that you can remember later (for example, don't name your sum Bob). To write $\\pi$, we use the one from the numpy library. Also remember to avoid library function names, the name ``sum\" is such an example."
   ]
  },
  {
   "cell_type": "code",
   "execution_count": null,
   "metadata": {},
   "outputs": [],
   "source": [
    "## Compute with Python, use pi from the numpy library. \n",
    "x = np.pi; y = 4.0\n",
    "_sum = x + y\n",
    "_difference = x - y\n",
    "_product = x*y\n",
    "_power = x**y\n",
    "_division = x/y\n",
    "\n",
    "print(_sum, _difference, _product, _power, _division)"
   ]
  },
  {
   "cell_type": "markdown",
   "metadata": {},
   "source": [
    "In our class, we will probably be plotting a lot of things. Python is famous for its powerful visualization tools. "
   ]
  },
  {
   "cell_type": "code",
   "execution_count": null,
   "metadata": {},
   "outputs": [],
   "source": [
    "from mpl_toolkits import mplot3d # for 3D coordinates\n",
    "x = np.outer(np.linspace(-2, 2, 30), np.ones(30)) # outer product \n",
    "y = x.copy().T # transpose\n",
    "z = np.cos(x ** 2 + y ** 2) # define surface \n",
    "\n",
    "fig = plt.figure()\n",
    "ax = plt.axes(projection='3d')\n",
    "\n",
    "ax.plot_surface(x, y, z,cmap='viridis', edgecolor='none')\n",
    "ax.set_title('Surface $z = \\cos(x^2 + y^2)$')\n",
    "plt.show()"
   ]
  },
  {
   "cell_type": "markdown",
   "metadata": {},
   "source": [
    "Plot a 3D surface of your choice. Type your code in the following cell, then hit run to show figure. Save your ipynb, and submit it with your output. "
   ]
  },
  {
   "cell_type": "code",
   "execution_count": null,
   "metadata": {},
   "outputs": [],
   "source": [
    "## insert your code here"
   ]
  }
 ],
 "metadata": {
  "kernelspec": {
   "display_name": "Python 3",
   "language": "python",
   "name": "python3"
  },
  "language_info": {
   "codemirror_mode": {
    "name": "ipython",
    "version": 3
   },
   "file_extension": ".py",
   "mimetype": "text/x-python",
   "name": "python",
   "nbconvert_exporter": "python",
   "pygments_lexer": "ipython3",
   "version": "3.6.9"
  }
 },
 "nbformat": 4,
 "nbformat_minor": 4
}
